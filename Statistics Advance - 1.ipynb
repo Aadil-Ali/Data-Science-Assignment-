{
 "cells": [
  {
   "cell_type": "markdown",
   "id": "c5bd86f2-97a6-43ee-a1d6-04c12cf3060c",
   "metadata": {},
   "source": [
    "### Q1\n",
    "Shape: The F-distribution is positively skewed and becomes more symmetrical as the degrees of freedom increase.\n",
    "\n",
    "Range: The values of the F-distribution are always positive, ranging from 0 to infinity.\n",
    "\n",
    "Parameters: It is characterized by two sets of degrees of freedom: the numerator degrees of freedom (df1) and the denominator degrees of freedom (df2)."
   ]
  },
  {
   "cell_type": "markdown",
   "id": "1a760cf9-6006-4d66-81a1-cb9aaedcf5ff",
   "metadata": {},
   "source": [
    "### Q2\n",
    "ANOVA (Analysis of Variance): It compares the variances within groups to the variances between groups to determine if there are any statistically significant differences among group means.\n",
    "\n",
    "F-test for equality of variances: It tests if two populations have equal variances."
   ]
  },
  {
   "cell_type": "markdown",
   "id": "9f871f95-674f-4344-ba01-5d64b02da58f",
   "metadata": {},
   "source": [
    "### Q3\n",
    "Independence: The samples must be independent of each other.\n",
    "\n",
    "Normality: The populations from which the samples are drawn must be normally distributed.\n",
    "\n",
    "Homogeneity of variance: The populations must have equal variances."
   ]
  },
  {
   "cell_type": "markdown",
   "id": "b69c17d1-513d-4921-9913-7df5e0f5cb78",
   "metadata": {},
   "source": [
    "### Q4\n",
    "ANOVA: Used to compare means of three or more groups simultaneously to see if at least one group mean is different from the others.\n",
    "\n",
    "t-test: Compares the means of two groups.\n",
    "\n",
    "The key difference is the number of groups being compared. ANOVA can handle more than two groups, whereas t-tests are limited to two."
   ]
  },
  {
   "cell_type": "markdown",
   "id": "1d223e02-706b-4dfe-b376-e812e8ea718a",
   "metadata": {},
   "source": [
    "### Q5\n",
    "One-way ANOVA is preferred when comparing more than two groups to control the Type I error rate. Conducting multiple t-tests increases the risk of Type I errors, but ANOVA handles this by using a single test."
   ]
  },
  {
   "cell_type": "markdown",
   "id": "1dec8802-ebcb-414a-9502-1bf1398656f1",
   "metadata": {},
   "source": [
    "### Q6\n",
    "Between-group variance: Variance due to the differences among group means.\n",
    "\n",
    "Within-group variance: Variance within each group.\n",
    "\n",
    "ANOVA partitions the total variance into these two components. The ratio of between-group variance to within-group variance forms the F-statistic, which helps in determining if the group means are significantly different."
   ]
  },
  {
   "cell_type": "markdown",
   "id": "1a45f20d-255d-48b2-b19c-aa524788d49d",
   "metadata": {},
   "source": [
    "### Q7\n",
    "Classical (Frequentist) Approach: Relies on p-values and null hypothesis significance testing. Uncertainty is interpreted as long-term frequencies.\n",
    "\n",
    "Bayesian Approach: Uses probability distributions to estimate parameters and quantify uncertainty. It updates beliefs based on observed data."
   ]
  },
  {
   "cell_type": "markdown",
   "id": "fd6aa7de-22df-49ae-a087-ad1f7d0539b8",
   "metadata": {},
   "source": [
    "### Q8"
   ]
  },
  {
   "cell_type": "code",
   "execution_count": 26,
   "id": "6f4ab651-c102-4a01-b253-92eed72724a4",
   "metadata": {},
   "outputs": [
    {
     "name": "stdout",
     "output_type": "stream",
     "text": [
      "Variance of Profession A: 32.8\n",
      "Variance of Profession B: 15.7\n",
      "F-statistic: 2.089171974522293\n",
      "Critical F-values (95% confidence, two-tailed): (0.10411753745392768, 9.60452988472286)\n",
      "Conclusion: Fail to Reject Null Hypothesis\n"
     ]
    }
   ],
   "source": [
    "import numpy as np\n",
    "from scipy.stats import f\n",
    "\n",
    "# Given data\n",
    "profession_A = np.array([48, 52, 55, 60, 62])\n",
    "profession_B = np.array([45, 50, 55, 52, 47])\n",
    "\n",
    "# Compute sample variances\n",
    "var_A = np.var(profession_A, ddof=1)  \n",
    "var_B = np.var(profession_B, ddof=1)\n",
    "\n",
    "# Compute F-statistic \n",
    "F_statistic = var_A / var_B if var_A > var_B else var_B / var_A\n",
    "\n",
    "# Degrees of freedom\n",
    "df1 = len(profession_A) - 1\n",
    "df2 = len(profession_B) - 1\n",
    "\n",
    "# Critical values for 95% confidence level (two-tailed test)\n",
    "alpha = 0.05\n",
    "F_critical_low = f.ppf(alpha / 2, df1, df2)\n",
    "F_critical_high = f.ppf(1 - (alpha / 2), df1, df2)\n",
    "\n",
    "# Conclusion\n",
    "reject_null = F_statistic < F_critical_low or F_statistic > F_critical_high\n",
    "\n",
    "# Print results\n",
    "print(f\"Variance of Profession A: {var_A}\")\n",
    "print(f\"Variance of Profession B: {var_B}\")\n",
    "print(f\"F-statistic: {F_statistic}\")\n",
    "print(f\"Critical F-values (95% confidence, two-tailed): ({F_critical_low}, {F_critical_high})\")\n",
    "print(\"Conclusion: Reject Null Hypothesis\" if reject_null else \"Conclusion: Fail to Reject Null Hypothesis\")"
   ]
  },
  {
   "cell_type": "markdown",
   "id": "d5cfc43b-4d76-48ff-a9a3-bbdca5edba3b",
   "metadata": {},
   "source": [
    "### Q9"
   ]
  },
  {
   "cell_type": "code",
   "execution_count": 31,
   "id": "1d7302af-7224-4b0e-99d3-0205ffbe748d",
   "metadata": {},
   "outputs": [
    {
     "name": "stdout",
     "output_type": "stream",
     "text": [
      "F-statistic: 67.87330316742101\n",
      "p-value: 2.870664187937026e-07\n",
      "Conclusion: Reject the null hypothesis - There is a statistically significant difference in average heights between the regions.\n"
     ]
    }
   ],
   "source": [
    "import numpy as np\n",
    "from scipy.stats import f_oneway\n",
    "\n",
    "# Given data\n",
    "region_A = np.array([160, 162, 165, 158, 164])\n",
    "region_B = np.array([172, 175, 170, 168, 174])\n",
    "region_C = np.array([180, 182, 179, 185, 183])\n",
    "\n",
    "# Perform one-way ANOVA\n",
    "F_statistic, p_value = f_oneway(region_A, region_B, region_C)\n",
    "\n",
    "# Print results\n",
    "print(f\"F-statistic: {F_statistic}\")\n",
    "print(f\"p-value: {p_value}\")\n",
    "\n",
    "# Interpret results\n",
    "alpha = 0.05\n",
    "if p_value < alpha:\n",
    "    print(\"Conclusion: Reject the null hypothesis - There is a statistically significant difference in average heights between the regions.\")\n",
    "else:\n",
    "    print(\"Conclusion: Fail to reject the null hypothesis - No statistically significant difference in average heights between the regions.\")\n"
   ]
  },
  {
   "cell_type": "code",
   "execution_count": null,
   "id": "9f36c74d-c477-43ee-ada1-1776b0ef3b62",
   "metadata": {},
   "outputs": [],
   "source": []
  }
 ],
 "metadata": {
  "kernelspec": {
   "display_name": "Python 3 (ipykernel)",
   "language": "python",
   "name": "python3"
  },
  "language_info": {
   "codemirror_mode": {
    "name": "ipython",
    "version": 3
   },
   "file_extension": ".py",
   "mimetype": "text/x-python",
   "name": "python",
   "nbconvert_exporter": "python",
   "pygments_lexer": "ipython3",
   "version": "3.12.4"
  }
 },
 "nbformat": 4,
 "nbformat_minor": 5
}
