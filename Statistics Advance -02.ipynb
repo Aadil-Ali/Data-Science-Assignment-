{
 "cells": [
  {
   "cell_type": "markdown",
   "id": "8f7a4f79-bd46-4769-85e0-70dae57d3345",
   "metadata": {},
   "source": [
    "**Q1: Define the z-statistic and explain its relationship to the standard normal distribution. How is the z-statistic used in hypothesis testing?**\n",
    "\n",
    "The z-statistic measures how far a value or sample mean is from the population mean in standard deviations. It follows the standard normal distribution (mean = 0, SD = 1).\n",
    "\n",
    "**Relationship to Standard Normal Distribution:**  \n",
    "The z-score follows the standard normal distribution (mean = 0, standard deviation = 1). This allows us to compare values across different normal distributions and find probabilities using Z-tables.\n",
    "\n",
    "**Use in Hypothesis Testing:**\n",
    "1. **Formulate Hypotheses**\n",
    "   - Null hypothesis (H₀): No effect/difference.\n",
    "   - Alternative hypothesis (Hₐ): There is an effect/difference.\n",
    "2. **Compute the Z-Statistic** using the formula:\n",
    "   \\[ Z = \\frac{X - \\mu}{\\sigma / \\sqrt{n}} \\]\n",
    "3. **Compare with Critical Value or P-Value**\n",
    "   - If |z| > critical value (e.g., 1.96 for α = 0.05), reject H₀.\n",
    "   - If p-value < α, reject H₀.t H0."
   ]
  },
  {
   "cell_type": "markdown",
   "id": "d7086c11-30c9-443c-b6b0-b3dd3cd77a61",
   "metadata": {},
   "source": [
    "**Q2: What is a p-value, and how is it used in hypothesis testing? What does it mean if the p-value is very small (e.g., 0.01)?**\n",
    "\n",
    "A p-value measures the likelihood of obtaining our results assuming the null hypothesis (H₀) is true.\n",
    "\n",
    "**Use in Hypothesis Testing:**\n",
    "- If p ≤ 0.05, reject H₀ (results are significant)\n",
    "- If p > 0.05, keep H₀ (not enough evidence)\n",
    "\n",
    "**Interpreting Small P-Values:**  \n",
    "A very small p-value (e.g., 0.01) indicates that our results are unlikely if H₀ were true, providing strong evidence to reject H₀ and accept the alternative hypothesis.\n"
   ]
  },
  {
   "cell_type": "markdown",
   "id": "a3e6a396-73ba-46c3-a1b7-08a697d404f1",
   "metadata": {},
   "source": [
    "**Q3: Compare and contrast the binomial and Bernoulli distributions.**\n",
    "\n",
    "**Bernoulli Distribution:**\n",
    "- Represents a single trial with two outcomes: success or failure\n",
    "- Probability of success: p\n",
    "- Probability of failure: 1 - p\n",
    "\n",
    "**Binomial Distribution:**\n",
    "- Represents the number of successes in **n** independent Bernoulli trials\n",
    "- Probability of k successes:  \n",
    "  \\[ P(X = k) = \\binom{n}{k} p^k (1 - p)^{(n - k)} \\]"
   ]
  },
  {
   "cell_type": "markdown",
   "id": "4d81560e-8a53-4133-82ce-a6e2bf12f721",
   "metadata": {},
   "source": [
    "**Q4: Under what conditions is the binomial distribution used, and how does it relate to the Bernoulli distribution?**\n",
    "\n",
    "The binomial distribution is used when:\n",
    "- There are a fixed number of independent trials (**n**)\n",
    "- Each trial has two possible outcomes (success or failure)\n",
    "- The probability of success remains constant for all trials\n",
    "\n",
    "**Relation to Bernoulli Distribution:**\n",
    "The binomial distribution is the sum of multiple Bernoulli trials.."
   ]
  },
  {
   "cell_type": "markdown",
   "id": "dbde166b-4ea0-4c8b-ac1b-a6d7a2ec15d5",
   "metadata": {},
   "source": [
    "**Q5: What are the key properties of the Poisson distribution, and when is it appropriate to use this distribution?**\n",
    "\n",
    "The Poisson distribution models the number of events occurring in a fixed interval of time or space.\n",
    "\n",
    "**Key Properties:**\n",
    "- Mean (**λ**) is equal to the variance.\n",
    "- Describes rare events.\n",
    "\n",
    "**Use Cases:**\n",
    "- Modeling the number of calls at a call center per hour.\n",
    "- Counting the number of accidents at an intersection.\n",
    "."
   ]
  },
  {
   "cell_type": "markdown",
   "id": "df159d53-d703-4964-b570-07403d650ea1",
   "metadata": {},
   "source": [
    "**Q6: Define the terms \"probability distribution\" and \"probability density function\" (PDF). How does a PDF differ from a probability mass function (PMF)?**\n",
    "\n",
    "**Probability Distribution:** Describes how probabilities are distributed over the possible outcomes.\n",
    "\n",
    "**Probability Density Function (PDF):**\n",
    "- Used for continuous random variables.\n",
    "- The area under the curve represents the probability.\n",
    "\n",
    "**Probability Mass Function (PMF):**\n",
    "- Used for discrete random variables.\n",
    "- It gives the probability that a random variable is exactly equal to a specific value."
   ]
  },
  {
   "cell_type": "markdown",
   "id": "5a8df0d4-e1bf-4b1c-a695-3666184ff10d",
   "metadata": {},
   "source": [
    "**Q7: Explain the Central Limit Theorem (CLT) with an example.**\n",
    "\n",
    "The Central Limit Theorem states that the distribution of the sample mean approaches a normal distribution as the sample size increases, regardless of the population's distribution.\n",
    "\n",
    "**Example:**\n",
    "- Rolling a fair die 50 times and calculating the average result.\n",
    "- Repeating this process many times, the distribution of the sample averages will be approximately normal."
   ]
  },
  {
   "cell_type": "markdown",
   "id": "db2db076-5b25-45ce-915c-ee415f7ae24b",
   "metadata": {},
   "source": [
    "**Q8: Compare z-scores and t-scores. When should you use a z-score, and when should a t-score be applied instead?**\n",
    "\n",
    "- **Z-scores**: Used when the population standard deviation is known, and the sample size is large (n > 30).\n",
    "- **T-scores**: Used when the population standard deviation is unknown, and the sample size is small (n ≤ 30)."
   ]
  },
  {
   "cell_type": "markdown",
   "id": "3a5aa088-0cb9-4ba9-a779-0cbb7b4135c4",
   "metadata": {},
   "source": [
    "**Q9: Given a sample mean of 105, a population mean of 100, a standard deviation of 15, and a sample size of 25, calculate the z-score and p-value.**"
   ]
  },
  {
   "cell_type": "code",
   "execution_count": 37,
   "id": "ab88d42d-df2a-46ba-b249-a17d84fc19d5",
   "metadata": {},
   "outputs": [
    {
     "name": "stdout",
     "output_type": "stream",
     "text": [
      "Z-score: 1.6666666666666667\n",
      "P-value: 0.047790352272814696\n",
      "Reject the null hypothesis\n"
     ]
    }
   ],
   "source": [
    "#Q9\n",
    "\n",
    "import scipy.stats as stats\n",
    "\n",
    "# Given data\n",
    "sample_mean = 105\n",
    "population_mean = 100\n",
    "std_dev = 15\n",
    "sample_size = 25\n",
    "\n",
    "# Calculate z-score\n",
    "z_score = (sample_mean - population_mean) / (std_dev / (sample_size**0.5))\n",
    "p_value = 1 - stats.norm.cdf(z_score)\n",
    "\n",
    "# Output results\n",
    "print(f\"Z-score: {z_score}\")\n",
    "print(f\"P-value: {p_value}\")\n",
    "\n",
    "# Hypothesis testing\n",
    "alpha = 0.05\n",
    "if p_value < alpha:\n",
    "    print(\"Reject the null hypothesis\")\n",
    "else:\n",
    "    print(\"Fail to reject the null hypothesis\")\n"
   ]
  },
  {
   "cell_type": "code",
   "execution_count": 39,
   "id": "c94669ad-fe38-4e1d-8a5f-ee52bbe0d9f8",
   "metadata": {},
   "outputs": [
    {
     "data": {
      "image/png": "[encoded data removed]",
      "text/plain": [
       "<Figure size 640x480 with 1 Axes>"
      ]
     },
     "metadata": {},
     "output_type": "display_data"
    },
    {
     "name": "stdout",
     "output_type": "stream",
     "text": [
      "Mean: 6.063\n",
      "Variance: 2.301031\n"
     ]
    }
   ],
   "source": [
    "#Q10\n",
    "import numpy as np\n",
    "import matplotlib.pyplot as plt\n",
    "\n",
    "# Parameters\n",
    "n_trials = 10\n",
    "p_success = 0.6\n",
    "n_samples = 1000\n",
    "\n",
    "# Simulate binomial distribution\n",
    "data = np.random.binomial(n_trials, p_success, n_samples)\n",
    "\n",
    "# Plot distribution\n",
    "plt.hist(data, bins=range(n_trials + 2), edgecolor='black', align='left')\n",
    "plt.xlabel('Number of Successes')\n",
    "plt.ylabel('Frequency')\n",
    "plt.title('Binomial Distribution')\n",
    "plt.show()\n",
    "\n",
    "# Calculate mean and variance\n",
    "mean = np.mean(data)\n",
    "variance = np.var(data)\n",
    "print(f\"Mean: {mean}\")\n",
    "print(f\"Variance: {variance}\")\n",
    "\n"
   ]
  },
  {
   "cell_type": "code",
   "execution_count": null,
   "id": "5db92e9d-3bfe-4c9d-8b29-164ecbef92e2",
   "metadata": {},
   "outputs": [],
   "source": []
  }
 ],
 "metadata": {
  "kernelspec": {
   "display_name": "Python 3 (ipykernel)",
   "language": "python",
   "name": "python3"
  },
  "language_info": {
   "codemirror_mode": {
    "name": "ipython",
    "version": 3
   },
   "file_extension": ".py",
   "mimetype": "text/x-python",
   "name": "python",
   "nbconvert_exporter": "python",
   "pygments_lexer": "ipython3",
   "version": "3.12.4"
  }
 },
 "nbformat": 4,
 "nbformat_minor": 5
}
