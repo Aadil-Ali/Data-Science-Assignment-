{
 "cells": [
  {
   "cell_type": "markdown",
   "id": "cbc3a881",
   "metadata": {},
   "source": [
    "# Statistics Basics - Assignment Questions"
   ]
  },
  {
   "cell_type": "markdown",
   "id": "f50ac321",
   "metadata": {},
   "source": [
    "## 1. Explain the different types of data (qualitative and quantitative) and provide examples of each. Discuss nominal, ordinal, interval, and ratio scales."
   ]
  },
  {
   "cell_type": "markdown",
   "id": "981e68de",
   "metadata": {},
   "source": [
    "**Qualitative Data:** Descriptive data that categorizes attributes. Examples: Colors, gender.\n",
    "\n",
    "**Quantitative Data:** Numeric data that can be measured. Examples: Age, height.\n",
    "\n",
    "- **Nominal Scale:** Categories without a meaningful order (e.g., blood type, car brands).\n",
    "- **Ordinal Scale:** Ordered categories but without fixed differences (e.g., satisfaction level).\n",
    "- **Interval Scale:** Ordered data with meaningful differences, but no true zero (e.g., temperature in Celsius).\n",
    "- **Ratio Scale:** Has a true zero, allows for meaningful ratios (e.g., height, weight)."
   ]
  },
  {
   "cell_type": "markdown",
   "id": "712cd810",
   "metadata": {},
   "source": [
    "## 2. What are the measures of central tendency, and when should you use each?"
   ]
  },
  {
   "cell_type": "markdown",
   "id": "ccc9c3d0",
   "metadata": {},
   "source": [
    "**Mean:** The average of a dataset, used for normally distributed data.\n",
    "\n",
    "**Median:** The middle value, used when data is skewed or contains outliers.\n",
    "\n",
    "**Mode:** The most frequent value, useful for categorical data."
   ]
  },
  {
   "cell_type": "markdown",
   "id": "b46e5a3b",
   "metadata": {},
   "source": [
    "## 3. Explain the concept of dispersion. How do variance and standard deviation measure the spread of data?"
   ]
  },
  {
   "cell_type": "markdown",
   "id": "857ffb39",
   "metadata": {},
   "source": [
    "Dispersion refers to how spread out the data points are.\n",
    "\n",
    "**Variance:** Measures the average squared deviation from the mean.\n",
    "\n",
    "**Standard Deviation:** The square root of variance, measuring data spread in original units."
   ]
  },
  {
   "cell_type": "code",
   "execution_count": null,
   "id": "46e4ddcd",
   "metadata": {},
   "outputs": [],
   "source": [
    "import numpy as np\n",
    "data = [10, 12, 23, 23, 16, 23, 21, 16]\n",
    "variance = np.var(data)\n",
    "std_dev = np.std(data)\n",
    "variance, std_dev"
   ]
  },
  {
   "cell_type": "markdown",
   "id": "15a95558",
   "metadata": {},
   "source": [
    "## 4. What is a box plot, and what can it tell you about the distribution of data?"
   ]
  },
  {
   "cell_type": "markdown",
   "id": "8c17743f",
   "metadata": {},
   "source": [
    "A box plot (box-and-whisker plot) displays the distribution of a dataset based on five summary statistics: minimum, first quartile (Q1), median (Q2), third quartile (Q3), and maximum. It helps in detecting outliers."
   ]
  },
  {
   "cell_type": "code",
   "execution_count": null,
   "id": "1b7e3e7f",
   "metadata": {},
   "outputs": [],
   "source": [
    "import matplotlib.pyplot as plt\n",
    "plt.boxplot(data)\n",
    "plt.title('Box Plot')\n",
    "plt.show()"
   ]
  },
  {
   "cell_type": "markdown",
   "id": "195cce7e",
   "metadata": {},
   "source": [
    "## 5. Discuss the role of random sampling in making inferences about populations."
   ]
  },
  {
   "cell_type": "markdown",
   "id": "ce533c94",
   "metadata": {},
   "source": [
    "Random sampling ensures that every individual in the population has an equal chance of being selected, reducing bias and increasing the reliability of inferences."
   ]
  },
  {
   "cell_type": "markdown",
   "id": "9dd03884",
   "metadata": {},
   "source": [
    "## 6. Explain the concept of skewness and its types. How does skewness affect the interpretation of data?"
   ]
  },
  {
   "cell_type": "markdown",
   "id": "73ea2fb0",
   "metadata": {},
   "source": [
    "**Skewness** measures asymmetry in a distribution:\n",
    "\n",
    "- **Positive Skew (Right-Skewed):** Tail extends to the right; mean > median.\n",
    "- **Negative Skew (Left-Skewed):** Tail extends to the left; mean < median.\n",
    "- **Zero Skewness:** Symmetric distribution."
   ]
  },
  {
   "cell_type": "code",
   "execution_count": null,
   "id": "dcacca00",
   "metadata": {},
   "outputs": [],
   "source": [
    "from scipy.stats import skew\n",
    "skewness = skew(data)\n",
    "skewness"
   ]
  },
  {
   "cell_type": "markdown",
   "id": "892962c5",
   "metadata": {},
   "source": [
    "## 7. What is the interquartile range (IQR), and how is it used to detect outliers?"
   ]
  },
  {
   "cell_type": "markdown",
   "id": "a7c67ed2",
   "metadata": {},
   "source": [
    "**Interquartile Range (IQR) = Q3 - Q1**\n",
    "\n",
    "Outliers are detected using:\n",
    "\n",
    "Lower Bound = Q1 - 1.5 * IQR\n",
    "\n",
    "Upper Bound = Q3 + 1.5 * IQR"
   ]
  },
  {
   "cell_type": "code",
   "execution_count": null,
   "id": "3bba1684",
   "metadata": {},
   "outputs": [],
   "source": [
    "Q1 = np.percentile(data, 25)\n",
    "Q3 = np.percentile(data, 75)\n",
    "IQR = Q3 - Q1\n",
    "Lower_Bound = Q1 - 1.5 * IQR\n",
    "Upper_Bound = Q3 + 1.5 * IQR\n",
    "IQR, Lower_Bound, Upper_Bound"
   ]
  },
  {
   "cell_type": "markdown",
   "id": "b9738aff",
   "metadata": {},
   "source": [
    "## 8. Discuss the conditions under which the binomial distribution is used."
   ]
  },
  {
   "cell_type": "markdown",
   "id": "3707d556",
   "metadata": {},
   "source": [
    "The binomial distribution is used when:\n",
    "\n",
    "- There are **n** independent trials.\n",
    "- Each trial has two outcomes (success/failure).\n",
    "- Probability of success remains constant."
   ]
  },
  {
   "cell_type": "code",
   "execution_count": null,
   "id": "f1ba92eb",
   "metadata": {},
   "outputs": [],
   "source": [
    "from scipy.stats import binom\n",
    "n, p = 10, 0.5\n",
    "binom_dist = binom.pmf(5, n, p)\n",
    "binom_dist"
   ]
  },
  {
   "cell_type": "markdown",
   "id": "f5eb84b7",
   "metadata": {},
   "source": [
    "## 9. Explain the properties of the normal distribution and the empirical rule (68-95-99.7 rule)."
   ]
  },
  {
   "cell_type": "markdown",
   "id": "d34aa9ac",
   "metadata": {},
   "source": [
    "A normal distribution is symmetrical and bell-shaped. The empirical rule states:\n",
    "\n",
    "- **68%** of data falls within 1 SD of the mean.\n",
    "- **95%** within 2 SDs.\n",
    "- **99.7%** within 3 SDs."
   ]
  },
  {
   "cell_type": "code",
   "execution_count": null,
   "id": "080f9328",
   "metadata": {},
   "outputs": [],
   "source": [
    "import scipy.stats as stats\n",
    "mean, std_dev = 50, 10\n",
    "empirical_rule = stats.norm(mean, std_dev).cdf([mean-std_dev, mean+std_dev])\n",
    "empirical_rule"
   ]
  },
  {
   "cell_type": "markdown",
   "id": "24bdb7ad",
   "metadata": {},
   "source": [
    "## 10. Provide a real-life example of a Poisson process and calculate the probability for a specific event."
   ]
  },
  {
   "cell_type": "markdown",
   "id": "e52d5cc2",
   "metadata": {},
   "source": [
    "Poisson distribution models rare events, like customer arrivals at a shop per hour."
   ]
  },
  {
   "cell_type": "code",
   "execution_count": null,
   "id": "60677e08",
   "metadata": {},
   "outputs": [],
   "source": [
    "from scipy.stats import poisson\n",
    "lambda_ = 4  # Average arrivals per hour\n",
    "probability = poisson.pmf(2, lambda_)\n",
    "probability"
   ]
  },
  {
   "cell_type": "markdown",
   "id": "83e353ea",
   "metadata": {},
   "source": [
    "## 11. Explain what a random variable is and differentiate between discrete and continuous random variables."
   ]
  },
  {
   "cell_type": "markdown",
   "id": "05fa7467",
   "metadata": {},
   "source": [
    "A **random variable** assigns a numerical value to each outcome.\n",
    "\n",
    "- **Discrete:** Takes countable values (e.g., number of heads in coin flips).\n",
    "- **Continuous:** Takes an infinite range of values (e.g., height of students)."
   ]
  },
  {
   "cell_type": "markdown",
   "id": "bf69b971",
   "metadata": {},
   "source": [
    "## 12. Provide an example dataset, calculate both covariance and correlation, and interpret the results."
   ]
  },
  {
   "cell_type": "code",
   "execution_count": null,
   "id": "db9fe305",
   "metadata": {},
   "outputs": [],
   "source": [
    "import pandas as pd\n",
    "df = pd.DataFrame({'X': [1, 2, 3, 4, 5], 'Y': [2, 3, 5, 7, 11]})\n",
    "covariance = df['X'].cov(df['Y'])\n",
    "correlation = df['X'].corr(df['Y'])\n",
    "covariance, correlation"
   ]
  }
 ],
 "metadata": {},
 "nbformat": 4,
 "nbformat_minor": 5
}
